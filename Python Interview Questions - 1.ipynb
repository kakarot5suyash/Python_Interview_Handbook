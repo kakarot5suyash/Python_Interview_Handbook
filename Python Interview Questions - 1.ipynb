{
 "cells": [
  {
   "cell_type": "markdown",
   "id": "22ab6f31-96c6-410f-a904-fab93360659b",
   "metadata": {},
   "source": [
    "# Write a Python function to check whether a given number is prime or not."
   ]
  },
  {
   "cell_type": "code",
   "execution_count": 4,
   "id": "c99adb89-2b52-435d-b028-3963379b88eb",
   "metadata": {},
   "outputs": [
    {
     "name": "stdout",
     "output_type": "stream",
     "text": [
      "True\n",
      "False\n"
     ]
    }
   ],
   "source": [
    "def is_prime(number):\n",
    "    \"\"\"Checks if a number is prime.\n",
    "    Args:\n",
    "        number: An integer.\n",
    "    Returns:\n",
    "        True if the number is prime, False otherwise.\n",
    "    \"\"\"\n",
    "    if number < 2:\n",
    "        return False\n",
    "    for i in range(2, int(number ** 0.5) + 1):\n",
    "        if number % i == 0:\n",
    "            return False\n",
    "    return True\n",
    "\n",
    "print(is_prime(17))\n",
    "print(is_prime(4))"
   ]
  },
  {
   "cell_type": "code",
   "execution_count": null,
   "id": "4750cd14-2716-4ddb-9cbd-5c87d2a9f8a9",
   "metadata": {},
   "outputs": [],
   "source": []
  }
 ],
 "metadata": {
  "kernelspec": {
   "display_name": "Python 3 (ipykernel)",
   "language": "python",
   "name": "python3"
  },
  "language_info": {
   "codemirror_mode": {
    "name": "ipython",
    "version": 3
   },
   "file_extension": ".py",
   "mimetype": "text/x-python",
   "name": "python",
   "nbconvert_exporter": "python",
   "pygments_lexer": "ipython3",
   "version": "3.11.4"
  }
 },
 "nbformat": 4,
 "nbformat_minor": 5
}
