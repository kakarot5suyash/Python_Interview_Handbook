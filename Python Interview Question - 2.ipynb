{
 "cells": [
  {
   "cell_type": "markdown",
   "id": "afdb23fd-2363-4b9a-bb8e-01b04465a380",
   "metadata": {},
   "source": [
    "# Write a Python function to find the largest continuous sum in a given list of integers."
   ]
  },
  {
   "cell_type": "code",
   "execution_count": 4,
   "id": "b1b78db0-2c49-4fa5-b3f7-01dab9083f0c",
   "metadata": {},
   "outputs": [
    {
     "name": "stdout",
     "output_type": "stream",
     "text": [
      "8\n",
      "318\n"
     ]
    }
   ],
   "source": [
    "def largest_continuous_sum(numbersList):\n",
    "    \"\"\"Finds largest continuous sum.\n",
    "    Args:\n",
    "        numbersList: A list containing numbers.\n",
    "    Returns:\n",
    "        Largest continuous sum.\n",
    "    \"\"\"\n",
    "    max_sum = current_sum = numbersList[0]\n",
    "    for number in numbersList[1:]:\n",
    "        current_sum = max(current_sum + number, number)\n",
    "        max_sum = max(max_sum, current_sum)\n",
    "    return max_sum\n",
    "\n",
    "print(largest_continuous_sum([1, -2, 3, 4, -1, 2, -6, 5]))\n",
    "print(largest_continuous_sum([12, 54, 67, 22, 78, 9, 31, 45]))"
   ]
  },
  {
   "cell_type": "code",
   "execution_count": null,
   "id": "39fe19f3-1e2f-4d36-9269-9cb7ebcd68df",
   "metadata": {},
   "outputs": [],
   "source": []
  }
 ],
 "metadata": {
  "kernelspec": {
   "display_name": "Python 3 (ipykernel)",
   "language": "python",
   "name": "python3"
  },
  "language_info": {
   "codemirror_mode": {
    "name": "ipython",
    "version": 3
   },
   "file_extension": ".py",
   "mimetype": "text/x-python",
   "name": "python",
   "nbconvert_exporter": "python",
   "pygments_lexer": "ipython3",
   "version": "3.11.4"
  }
 },
 "nbformat": 4,
 "nbformat_minor": 5
}
