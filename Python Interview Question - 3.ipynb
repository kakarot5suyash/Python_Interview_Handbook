{
 "cells": [
  {
   "cell_type": "markdown",
   "id": "e51cdf3c-0273-48f1-a23b-b6bc4b2cd747",
   "metadata": {},
   "source": [
    "# What is the difference between 'is' and '==' in Python"
   ]
  },
  {
   "cell_type": "code",
   "execution_count": 3,
   "id": "360f5d4e-2666-4f16-8d2d-6538246fc6d7",
   "metadata": {},
   "outputs": [
    {
     "name": "stdout",
     "output_type": "stream",
     "text": [
      "False\n",
      "True\n"
     ]
    }
   ],
   "source": [
    "# Create two different lists with the same elements\n",
    "list1 = [15, 16, 17]\n",
    "list2 = [15, 16, 17]\n",
    "\n",
    "\n",
    "#The 'is' operator in Python checks if two objects are the same object (i.e., they have the same memory address),\n",
    "# use \"is\" to check if they are the same object\n",
    "print(list1 is list2)\n",
    "\n",
    "#the'==' operator checks if two objects have the same value.\n",
    "# use \"==\" to check if they are the same value\n",
    "print(list1 == list2)"
   ]
  },
  {
   "cell_type": "code",
   "execution_count": null,
   "id": "6221b157-a51b-4a7b-b27e-702ef995c0f5",
   "metadata": {},
   "outputs": [],
   "source": []
  }
 ],
 "metadata": {
  "kernelspec": {
   "display_name": "Python 3 (ipykernel)",
   "language": "python",
   "name": "python3"
  },
  "language_info": {
   "codemirror_mode": {
    "name": "ipython",
    "version": 3
   },
   "file_extension": ".py",
   "mimetype": "text/x-python",
   "name": "python",
   "nbconvert_exporter": "python",
   "pygments_lexer": "ipython3",
   "version": "3.11.4"
  }
 },
 "nbformat": 4,
 "nbformat_minor": 5
}
